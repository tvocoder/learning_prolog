{
 "cells": [
  {
   "cell_type": "code",
   "execution_count": 2,
   "metadata": {},
   "outputs": [],
   "source": [
    "from prologterms import TermGenerator, PrologRenderer, Var"
   ]
  },
  {
   "cell_type": "code",
   "execution_count": 3,
   "metadata": {},
   "outputs": [
    {
     "name": "stdout",
     "output_type": "stream",
     "text": [
      "member(X, [1, 2, 3])\n"
     ]
    }
   ],
   "source": [
    "X = Var('X')\n",
    "P = TermGenerator()\n",
    "term = P.member(X, [1, 2, 3])\n",
    "r = PrologRenderer()\n",
    "print(r.render(term))"
   ]
  },
  {
   "cell_type": "code",
   "execution_count": 5,
   "metadata": {},
   "outputs": [],
   "source": [
    "X = Var('X') \n",
    "Y = Var('Y') \n",
    "Z = Var('Z')"
   ]
  },
  {
   "cell_type": "code",
   "execution_count": 6,
   "metadata": {},
   "outputs": [],
   "source": [
    "rule = P.ancestor(X,Y) <= (P.parent(X,Z), P.ancestor(Z,Y))"
   ]
  },
  {
   "cell_type": "code",
   "execution_count": 7,
   "metadata": {},
   "outputs": [
    {
     "name": "stdout",
     "output_type": "stream",
     "text": [
      "ancestor(X, Y) :-\n",
      "    parent(X, Z), ancestor(Z, Y)\n"
     ]
    }
   ],
   "source": [
    "print(r.render(rule))"
   ]
  },
  {
   "cell_type": "code",
   "execution_count": 8,
   "metadata": {},
   "outputs": [
    {
     "name": "stdout",
     "output_type": "stream",
     "text": [
      "% the ancestor relation propagates over parent/2\n",
      "ancestor(X, Y) :-\n",
      "    parent(X, Z), ancestor(Z, Y)\n"
     ]
    }
   ],
   "source": [
    "rule = (P.ancestor(X,Y) <= (P.parent(X,Z), P.ancestor(Z,Y))) % 'the ancestor relation propagates over parent/2'\n",
    "print(r.render(rule))"
   ]
  },
  {
   "cell_type": "markdown",
   "metadata": {},
   "source": [
    "## Programs"
   ]
  },
  {
   "cell_type": "code",
   "execution_count": 9,
   "metadata": {},
   "outputs": [],
   "source": [
    "from prologterms import Program"
   ]
  },
  {
   "cell_type": "code",
   "execution_count": 10,
   "metadata": {},
   "outputs": [],
   "source": [
    "P = TermGenerator()\n",
    "R = PrologRenderer()\n",
    "\n",
    "X = Var('X')\n",
    "Y = Var('Y')\n",
    "Z = Var('Z')"
   ]
  },
  {
   "cell_type": "code",
   "execution_count": 11,
   "metadata": {},
   "outputs": [],
   "source": [
    "prog = Program(\n",
    "    P.ancestor(X, Y) <= (P.parent(X,Z), P.ancestor(Z,Y)),\n",
    "    P.ancestor(X, Y) <= P.parent(X,Y),\n",
    "    P.parent('a', 'b'),\n",
    "    P.parent('b', 'c'),\n",
    "    P.parent('c', 'd')\n",
    ")"
   ]
  },
  {
   "cell_type": "code",
   "execution_count": 12,
   "metadata": {},
   "outputs": [
    {
     "name": "stdout",
     "output_type": "stream",
     "text": [
      "ancestor(X, Y) :-\n",
      "    parent(X, Z), ancestor(Z, Y).\n",
      "ancestor(X, Y) :-\n",
      "    parent(X, Y).\n",
      "parent(a, b).\n",
      "parent(b, c).\n",
      "parent(c, d).\n",
      "\n"
     ]
    }
   ],
   "source": [
    "print(R.render(prog))"
   ]
  },
  {
   "cell_type": "code",
   "execution_count": 32,
   "metadata": {},
   "outputs": [],
   "source": [
    "from pengines.Builder import PengineBuilder\n",
    "from pengines.Pengine import Pengine"
   ]
  },
  {
   "cell_type": "code",
   "execution_count": 33,
   "metadata": {},
   "outputs": [],
   "source": [
    "# pengine_builder = PengineBuilder(urlserver=\"http://localhost:4242\")"
   ]
  },
  {
   "cell_type": "code",
   "execution_count": 35,
   "metadata": {},
   "outputs": [],
   "source": [
    "factory = PengineBuilder(urlserver=\"http://localhost:4242\",\n",
    "                         srctext=R.render(prog),\n",
    "                         ask=R.render(q))"
   ]
  },
  {
   "cell_type": "code",
   "execution_count": 40,
   "metadata": {},
   "outputs": [
    {
     "name": "stdout",
     "output_type": "stream",
     "text": [
      "a <- d\n",
      "a <- c\n",
      "b <- d\n",
      "a <- b\n",
      "b <- c\n",
      "c <- d\n"
     ]
    }
   ],
   "source": [
    "pengine = Pengine(builder=factory, debug=False)\n",
    "while pengine.currentQuery.hasMore:\n",
    "    pengine.doNext(pengine.currentQuerry)\n",
    "    \n",
    "for p in pengine.currentQuery.availProofs:\n",
    "    print('{} <- {}'.format(p[X.name], p[Y.name]))"
   ]
  },
  {
   "cell_type": "markdown",
   "metadata": {},
   "source": [
    "# Logic and Logic Programs"
   ]
  },
  {
   "cell_type": "markdown",
   "metadata": {},
   "source": [
    "### first-order predicate calculus\n",
    "\n",
    "```\n",
    "call(express(logical_statement(X))\n",
    "```\n",
    "\n",
    "\n",
    "### logical \n",
    "\n",
    "```\n",
    "logical_statement(X)\n",
    "   X :- true\n",
    "   X :- false\n",
    "```\n",
    "\n",
    "### axioms\n",
    "\n",
    "```\n",
    "Axioms(X) :- logical_statement(X), rule(logical_statement(X)).\n",
    "```\n",
    "\n",
    "- from which other true statements can be proved.\n",
    "- not(Axioms(X))?\n",
    "- if logical_statement in rule is proved to be false, then it is not a logical statement.\n"
   ]
  },
  {
   "cell_type": "markdown",
   "metadata": {},
   "source": [
    "# logical Statements\n",
    "\n",
    "```pl\n",
    "natural(0). % axiom\n",
    "natural(2).\n",
    "\n",
    "natural(X) :- natural(X), successor(natural(X)). % axiom\n",
    "\n",
    "natural(21).\n",
    "```"
   ]
  },
  {
   "cell_type": "markdown",
   "metadata": {},
   "source": [
    "#### tybalt stabs mercutio with a sword. romeo hates X if X stabs mercutio with sword\n",
    "\n",
    "```pl\n",
    "% f u juliet\n",
    "\n",
    "stabs(tybalt, mercutio, sword).\n",
    "hates(romeo, X) :- stabs(X, mercutio, sword).\n",
    "```\n",
    "X = juliet. fuck that bitch. haha"
   ]
  },
  {
   "cell_type": "markdown",
   "metadata": {},
   "source": [
    "```pl\n",
    "\n",
    "what_grade(5) :-\n",
    "    reaction...\n",
    "```\n",
    "\n",
    "so this is a what again? a case.\n",
    "switch_case\n",
    "\n",
    "```pl\n",
    "what_grade(Other) :-\n",
    "    Grade is Other - 5,\n",
    "    format('Go to grade ~w', [Grade]).\n",
    "```"
   ]
  },
  {
   "cell_type": "markdown",
   "metadata": {},
   "source": [
    "### functor\n",
    "\n",
    "```pl\n",
    "functor(arity)\n",
    "women(stay(calm), drink(wine), make_up(face)).\n",
    "```\n",
    "\n",
    "haha. you that shit is so fucking sexist bro. keep going"
   ]
  },
  {
   "cell_type": "markdown",
   "metadata": {},
   "source": [
    "```pl\n",
    "\n",
    "get_cust_bal(FName, LName) :-\n",
    "    customer(FName, LName, Bal),\n",
    "    write(FName), tab(1), \n",
    "    format('~w owes us $~2f ~n', [LName, Bal]).\n",
    "    \n",
    "Women(X, hus, bands) :-\n",
    "    get_cust_bal(hus, bands),\n",
    "    write(hus), tab(bands),\n",
    "    concat(husbands).\n",
    "```"
   ]
  },
  {
   "cell_type": "markdown",
   "metadata": {},
   "source": []
  }
 ],
 "metadata": {
  "kernelspec": {
   "display_name": "Python 3",
   "language": "python",
   "name": "python3"
  },
  "language_info": {
   "codemirror_mode": {
    "name": "ipython",
    "version": 3
   },
   "file_extension": ".py",
   "mimetype": "text/x-python",
   "name": "python",
   "nbconvert_exporter": "python",
   "pygments_lexer": "ipython3",
   "version": "3.8.3"
  }
 },
 "nbformat": 4,
 "nbformat_minor": 4
}
